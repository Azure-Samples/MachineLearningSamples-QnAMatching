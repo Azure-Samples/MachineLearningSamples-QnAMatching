{
 "cells": [
  {
   "cell_type": "markdown",
   "metadata": {},
   "source": [
    "# Part 1: Data Preparation\n",
    "\n",
    "Please make sure you have __notebook__ and __nltk__ Python packages installed in the compute context you choose as kernel. For demonstration purpose, this series of notebooks uses the `local` compute context.\n",
    "\n",
    "**NOTE**: Python 3 kernel doesn't include Azure Machine Learning Workbench functionalities. Please switch the kernel to `local` before continuing further. \n",
    "\n",
    "To install __notebook__ and __nltk__, please uncomment and run the following script."
   ]
  },
  {
   "cell_type": "code",
   "execution_count": 1,
   "metadata": {},
   "outputs": [],
   "source": [
    "# !pip install --upgrade notebook\n",
    "# !pip install --upgrade nltk"
   ]
  },
  {
   "cell_type": "markdown",
   "metadata": {},
   "source": [
    "### Import Required Python Modules"
   ]
  },
  {
   "cell_type": "code",
   "execution_count": 2,
   "metadata": {
    "collapsed": true
   },
   "outputs": [],
   "source": [
    "import pandas as pd\n",
    "import numpy as np\n",
    "import re, os, gzip, requests, warnings\n",
    "warnings.filterwarnings(\"ignore\")"
   ]
  },
  {
   "cell_type": "markdown",
   "metadata": {},
   "source": [
    "## Access Sample Data\n",
    "\n",
    "In this example, we have collected a set of Q&A pairs from Stack Overflow site tagged as `JavaScript` questions. The data contains 1,201 original Q&A pairs as well as many duplicate questions, i.e. new questions that Stack Overflow users have linked back to pre-existing Q&A pairs that effectively provide answers to these new questions. The data schema of the original questions (Q), duplicate questions (D), and answers (A) can be found in the following table:\n",
    "\n",
    "| Dataset | Field | Type | Description\n",
    "| ----------|------------|------------|--------\n",
    "| question (Q) | Id | String | The unique question ID (primary key)\n",
    "|  | AnswerId | String | The unique answer ID per question\n",
    "|  | Text0 | String | The raw text data including the question's title and body\n",
    "|  | CreationDate | Timestamp | The timestamp of when the question has been asked\n",
    "| dupes (D) | Id | String | The unique duplication ID (primary key)\n",
    "|  | AnswerId | String | The answer ID associated with the duplication\n",
    "|  | Text0 | String | The raw text data including the duplication's title and body\n",
    "|  | CreationDate | Timestamp | The timestamp of when the duplication has been asked\n",
    "| answers (A) | Id | String | The unique answer ID (primary key)\n",
    "|  | text0 | String | The raw text data of the answer\n",
    "\n",
    "The datasets are compressed and stored in Azure Blob storage as `.tsv.gz` files and this section provides you the code to retreive the data in the notebook."
   ]
  },
  {
   "cell_type": "code",
   "execution_count": 3,
   "metadata": {
    "collapsed": true
   },
   "outputs": [],
   "source": [
    "# load raw data from a .tsv.gz file into Pandas data frame.\n",
    "def read_csv_gz(url, **kwargs):\n",
    "    df = pd.read_csv(gzip.open(requests.get(url, stream=True).raw, mode='rb'), sep='\\t', encoding='utf8', **kwargs)\n",
    "    return df.set_index('Id')"
   ]
  },
  {
   "cell_type": "code",
   "execution_count": 4,
   "metadata": {
    "collapsed": true
   },
   "outputs": [],
   "source": [
    "# URLs to Original questions, Duplications, and Answers.\n",
    "questions_url = 'https://bostondata.blob.core.windows.net/stackoverflow/orig-q.tsv.gz'\n",
    "dupes_url = 'https://bostondata.blob.core.windows.net/stackoverflow/dup-q.tsv.gz'\n",
    "answers_url = 'https://bostondata.blob.core.windows.net/stackoverflow/ans.tsv.gz'\n",
    "\n",
    "# load datasets.\n",
    "questions = read_csv_gz(questions_url, names=('Id', 'AnswerId', 'Text0', 'CreationDate'))\n",
    "dupes = read_csv_gz(dupes_url, names=('Id', 'AnswerId', 'Text0', 'CreationDate'))\n",
    "answers = read_csv_gz(answers_url, names=('Id', 'Text0'))"
   ]
  },
  {
   "cell_type": "markdown",
   "metadata": {},
   "source": [
    "To provide some example, here are the first five rows of the __questions__ table:"
   ]
  },
  {
   "cell_type": "code",
   "execution_count": 5,
   "metadata": {
    "scrolled": true
   },
   "outputs": [
    {
     "data": {
      "text/html": [
       "<div>\n",
       "<table border=\"1\" class=\"dataframe\">\n",
       "  <thead>\n",
       "    <tr style=\"text-align: right;\">\n",
       "      <th></th>\n",
       "      <th>AnswerId</th>\n",
       "      <th>Text0</th>\n",
       "      <th>CreationDate</th>\n",
       "    </tr>\n",
       "    <tr>\n",
       "      <th>Id</th>\n",
       "      <th></th>\n",
       "      <th></th>\n",
       "      <th></th>\n",
       "    </tr>\n",
       "  </thead>\n",
       "  <tbody>\n",
       "    <tr>\n",
       "      <th>220231</th>\n",
       "      <td>220233</td>\n",
       "      <td>Accessing the web page's HTTP Headers in JavaS...</td>\n",
       "      <td>2008-10-20 22:54:38.767</td>\n",
       "    </tr>\n",
       "    <tr>\n",
       "      <th>391979</th>\n",
       "      <td>810461</td>\n",
       "      <td>Get client IP using just JavaScript?. &lt;p&gt;I nee...</td>\n",
       "      <td>2008-12-24 18:22:30.780</td>\n",
       "    </tr>\n",
       "    <tr>\n",
       "      <th>109086</th>\n",
       "      <td>109091</td>\n",
       "      <td>Stop setInterval call in JavaScript. &lt;p&gt;I am u...</td>\n",
       "      <td>2008-09-20 19:29:55.377</td>\n",
       "    </tr>\n",
       "    <tr>\n",
       "      <th>46155</th>\n",
       "      <td>46181</td>\n",
       "      <td>Validate email address in JavaScript?. &lt;p&gt;How ...</td>\n",
       "      <td>2008-09-05 16:10:11.093</td>\n",
       "    </tr>\n",
       "    <tr>\n",
       "      <th>121499</th>\n",
       "      <td>121708</td>\n",
       "      <td>When onblur occurs, how can I find out which e...</td>\n",
       "      <td>2008-09-23 14:48:43.483</td>\n",
       "    </tr>\n",
       "  </tbody>\n",
       "</table>\n",
       "</div>"
      ],
      "text/plain": [
       "        AnswerId                                              Text0  \\\n",
       "Id                                                                    \n",
       "220231    220233  Accessing the web page's HTTP Headers in JavaS...   \n",
       "391979    810461  Get client IP using just JavaScript?. <p>I nee...   \n",
       "109086    109091  Stop setInterval call in JavaScript. <p>I am u...   \n",
       "46155      46181  Validate email address in JavaScript?. <p>How ...   \n",
       "121499    121708  When onblur occurs, how can I find out which e...   \n",
       "\n",
       "                   CreationDate  \n",
       "Id                               \n",
       "220231  2008-10-20 22:54:38.767  \n",
       "391979  2008-12-24 18:22:30.780  \n",
       "109086  2008-09-20 19:29:55.377  \n",
       "46155   2008-09-05 16:10:11.093  \n",
       "121499  2008-09-23 14:48:43.483  "
      ]
     },
     "execution_count": 5,
     "metadata": {},
     "output_type": "execute_result"
    }
   ],
   "source": [
    "questions.head(5)"
   ]
  },
  {
   "cell_type": "markdown",
   "metadata": {},
   "source": [
    "Here is the full text of one __original__ question, whose is `Id` is `220231`. The `AnswerId` associated with this question is `220233`."
   ]
  },
  {
   "cell_type": "code",
   "execution_count": 6,
   "metadata": {
    "scrolled": true
   },
   "outputs": [
    {
     "name": "stdout",
     "output_type": "stream",
     "text": [
      "Accessing the web page's HTTP Headers in JavaScript. <p>How do I access a page's HTTP response headers via JavaScript?</p> <p>Related to <a href=\"http://stackoverflow.com/questions/220149/how-do-i-access-the-http-request-header-fields-via-javascript\"><strong>this question</strong></a>, which was modified to ask about accessing two specific HTTP headers.</p> <blockquote> <p><strong>Related:</strong><br> <a href=\"http://stackoverflow.com/questions/220149/how-do-i-access-the-http-request-header-fields-via-javascript\">How do I access the HTTP request header fields via JavaScript?</a></p> </blockquote>\n"
     ]
    }
   ],
   "source": [
    "# This text include the HTML code.\n",
    "print(questions[\"Text0\"][220231])"
   ]
  },
  {
   "cell_type": "markdown",
   "metadata": {},
   "source": [
    "Here is the full text of the __answer__ associated with the above original question:"
   ]
  },
  {
   "cell_type": "code",
   "execution_count": 7,
   "metadata": {
    "scrolled": true
   },
   "outputs": [
    {
     "name": "stdout",
     "output_type": "stream",
     "text": [
      "<p>Unfortunately, there isn't an API to give you the HTTP response headers for your initial page request. That was the original question posted here. It has been <a href=\"http://stackoverflow.com/questions/12258705/how-can-i-read-the-current-headers-without-making-a-new-request-with-js\">repeatedly asked</a>, too, because some people would like to get the actual response headers of the original page request without issuing another one.</p> <h1><br/>For AJAX Requests:</h1> <p>If an HTTP request is made over AJAX, it is possible to get the response headers with the <strong><code>getAllResponseHeaders()</code></strong> method. It's part of the XMLHttpRequest API. To see how this can be applied, check out the <em><code>fetchSimilarHeaders()</code></em> function below. Note that this is a work-around to the problem that won't be reliable for some applications.</p> <pre><code>myXMLHttpRequest.getAllResponseHeaders(); </code></pre> <ul> <li><p>The API was specified in the following candidate recommendation for XMLHttpRequest: <a href=\"http://www.w3.org/TR/XMLHttpRequest/#the-getresponseheader-method\" rel=\"nofollow\">XMLHttpRequest - W3C Candidate Recommendation 3 August 2010</a></p></li> <li><p>Specifically, the <code>getAllResponseHeaders()</code> method was specified in the following section: <a href=\"http://www.w3.org/TR/XMLHttpRequest/#the-getallresponseheaders()-method\" rel=\"nofollow\">w3.org: <code>XMLHttpRequest</code>: the <code>getallresponseheaders()</code> method</a> </p></li> <li><p>The MDN documentation is good, too: <a href=\"https://developer.mozilla.org/en-US/docs/Web/API/XMLHttpRequest\" rel=\"nofollow\">developer.mozilla.org: <code>XMLHttpRequest</code></a>.</p></li> </ul> <p>This will not give you information about the original page request's HTTP response headers, but it could be used to make educated guesses about what those headers were. More on that is described next.</p> <h1><br/>Getting header values from the Initial Page Request:</h1> <p>This question was first asked several years ago, asking specifically about how to get at the original HTTP response headers for the <em>current page</em> (i.e. the same page inside of which the javascript was running). This is quite a different question than simply getting the response headers for any HTTP request. For the initial page request, the headers aren't readily available to javascript. Whether the header values you need will be reliably and sufficiently consistent if you request the same page again via AJAX will depend on your particular application.</p> <p>The following are a few suggestions for getting around that problem.</p> <h2><br/>1. Requests on Resources which are largely static</h2> <p>If the response is largely static and the headers are not expected to change much between requests, you could make an AJAX request for the same page you're currently on and assume that they're they are the same values which were part of the page's HTTP response. This could allow you to access the headers you need using the nice XMLHttpRequest API described above.</p> <pre><code>function fetchSimilarHeaders (callback) { var request = new XMLHttpRequest(); request.onreadystatechange = function () { if (request.readyState === 4) { // // The following headers may often be similar // to those of the original page request... // if (callback &amp;&amp; typeof callback === 'function') { callback(request.getAllResponseHeaders()); } } }; // // Re-request the same page (document.location) // We hope to get the same or similar response headers to those which // came with the current page, but we have no guarantee. // Since we are only after the headers, a HEAD request may be sufficient. // request.open('HEAD', document.location, true); request.send(null); } </code></pre> <p>This approach will be problematic if you truly have to rely on the values being consistent between requests, since you can't fully guarantee that they are the same. It's going to depend on your specific application and\n"
     ]
    }
   ],
   "source": [
    "print(answers[\"Text0\"][220233])"
   ]
  },
  {
   "cell_type": "markdown",
   "metadata": {},
   "source": [
    "__Duplicate__ questions share the same `AnswerId` as the original question they link to. Here is the first duplicate question linked to the above original question:"
   ]
  },
  {
   "cell_type": "code",
   "execution_count": 8,
   "metadata": {
    "scrolled": true
   },
   "outputs": [
    {
     "name": "stdout",
     "output_type": "stream",
     "text": [
      "Monitoring http request header on a page. <blockquote> <p><strong>Possible Duplicates:</strong><br> <a href=\"http://stackoverflow.com/questions/220231/accessing-http-headers-in-javascript\">Accessing HTTP Headers in Javascript?</a><br> <a href=\"http://stackoverflow.com/questions/220149/how-do-i-access-the-http-request-header-fields-via-javascript\">How do I access the HTTP request header fields via JavaScript?</a> </p> </blockquote> <p>We can use httpwatch on IE or httpfox on Firefox to monitor http activity</p> <p>If i don't want to use any plugs on browser...</p> <p>Is it possible to monitor http request header on a page just by javascript?</p>\n"
     ]
    }
   ],
   "source": [
    "print(dupes.query(\"AnswerId == 220233\").iloc[0][\"Text0\"])"
   ]
  },
  {
   "cell_type": "markdown",
   "metadata": {},
   "source": [
    "## Pre-process Text Data\n",
    "\n",
    "### Clean up text\n",
    "\n",
    "The raw data is in `HTML` format and needs to be cleaned up for any further analysis. We exclude HTML tags, links and code snippets from the data."
   ]
  },
  {
   "cell_type": "code",
   "execution_count": 9,
   "metadata": {
    "collapsed": true
   },
   "outputs": [],
   "source": [
    "# remove embedded code chunks, HTML tags and links/URLs.\n",
    "def clean_text(text):\n",
    "    global EMPTY\n",
    "    EMPTY = ''\n",
    "    \n",
    "    if not isinstance(text, str): \n",
    "        return text\n",
    "    text = re.sub('<pre><code>.*?</code></pre>', EMPTY, text)\n",
    "\n",
    "    def replace_link(match):\n",
    "        return EMPTY if re.match('[a-z]+://', match.group(1)) else match.group(1)\n",
    "    \n",
    "    text = re.sub('<a[^>]+>(.*)</a>', replace_link, text)\n",
    "    return re.sub('<[^>]+>', EMPTY, text)"
   ]
  },
  {
   "cell_type": "code",
   "execution_count": 10,
   "metadata": {
    "collapsed": true
   },
   "outputs": [],
   "source": [
    "for df in (questions, dupes, answers):\n",
    "    df['Text'] = df['Text0'].apply(clean_text).str.lower()\n",
    "    df['NumChars'] = df['Text'].str.len()"
   ]
  },
  {
   "cell_type": "markdown",
   "metadata": {},
   "source": [
    "### Set data selection criteria\n",
    "\n",
    "To obtain the high quality datasets for phrase learning and model training, we requires a minimum length of characters in the text field. Different thresholds are considered for original questions, duplications, and answers, respectively. Also, each Q&A pair in our set must have a minimum of 3 additional semantically equivalent duplicate questions linked to it. "
   ]
  },
  {
   "cell_type": "code",
   "execution_count": 11,
   "metadata": {
    "collapsed": true
   },
   "outputs": [],
   "source": [
    "# find the AnswerIds has at least 3 dupes.\n",
    "def find_answerId(answersC, dupesC, num_dupes):\n",
    "       \n",
    "    countHash = {}\n",
    "    for i in dupesC.AnswerId:\n",
    "        if i not in answersC.index.values:\n",
    "            continue\n",
    "        if i not in countHash.keys():\n",
    "            countHash[i] = 1\n",
    "        else:\n",
    "            countHash[i] += 1\n",
    "            \n",
    "    countHash = {k: v for k, v in countHash.items() if v >= num_dupes}\n",
    "    commonAnswerId = countHash.keys()\n",
    "    \n",
    "    return commonAnswerId\n",
    "\n",
    "# extract data based on the selection criteria.\n",
    "def select_data(questions, dupes, answers):\n",
    "    # exclude the records without any text\n",
    "    questions_nz = questions.query('NumChars > 0')\n",
    "    dupes_nz = dupes.query('NumChars > 0')\n",
    "    answers_nz = answers.query('NumChars > 0')\n",
    "\n",
    "    # get the 10th percentile of text length as the minimum length of characters to consider in the text field\n",
    "    minLenQ = questions_nz.quantile(.1)['NumChars']\n",
    "    minLenD = dupes_nz.quantile(.1)['NumChars']\n",
    "    minLenA = answers_nz.quantile(.1)['NumChars']\n",
    "    \n",
    "    # eliminate records with text less than the minimum length\n",
    "    questionsC = questions.query('NumChars >' + str(int(minLenQ)))\n",
    "    dupesC = dupes.query('NumChars >' + str(minLenD))\n",
    "    answersC = answers.query('NumChars >' + str(minLenA))\n",
    "    \n",
    "    # remove the records in dupesC whose questionId has already existed in questionsC\n",
    "    duplicatedIndex = list(set(questionsC.index).intersection(set(dupesC.index)))\n",
    "    dupesC.drop(duplicatedIndex, inplace=True)\n",
    "    \n",
    "    # make sure Questions 1:1 match with Answers \n",
    "    matches = questionsC.merge(answersC, left_on = 'AnswerId', right_index = True)\n",
    "    questionsC = matches[['AnswerId', 'Text0_x', 'CreationDate', 'Text_x', 'NumChars_x']]\n",
    "    questionsC.columns = ['AnswerId', 'Text0', 'CreationDate', 'Text', 'NumChars']\n",
    "\n",
    "    answersC = matches[['Text0_y', 'Text_y', 'NumChars_y']]\n",
    "    answersC.index = matches['AnswerId']\n",
    "    answersC.columns = ['Text0', 'Text', 'NumChars']\n",
    "    \n",
    "    # find the AnswerIds has at least 3 dupes\n",
    "    commonAnswerId = find_answerId(answersC, dupesC, 3)\n",
    "    \n",
    "    # select the records with those AnswerIds\n",
    "    questionsC = questionsC.loc[questionsC.AnswerId.isin(commonAnswerId)]\n",
    "    dupesC = dupesC.loc[dupesC.AnswerId.isin(commonAnswerId)]\n",
    "    \n",
    "    return questionsC, dupesC"
   ]
  },
  {
   "cell_type": "code",
   "execution_count": 12,
   "metadata": {
    "collapsed": true
   },
   "outputs": [],
   "source": [
    "# some questions have been linked to multiple AnswerIds.\n",
    "# we keep the first AnswerId associated with that question and remove the rest.\n",
    "questions = questions.groupby(questions.index).first()\n",
    "dupes = dupes.groupby(dupes.index).first()\n",
    "\n",
    "# execute the data selection function on questions, dupes and answers.\n",
    "questionsC, dupesC = select_data(questions, dupes, answers)"
   ]
  },
  {
   "cell_type": "markdown",
   "metadata": {},
   "source": [
    "## Prepare Training and Test datasets\n",
    "\n",
    "In this example, we retain original question and 75% of the duplicate questions for training, and hold-out the most recently posted 25% of duplicate questions as test data. The training and test data are split by `CreationDate`.\n",
    "\n",
    "- training set = Original questions + 75% of oldest Duplications per original question\n",
    "- test set = remaining 25% of Duplications per original question"
   ]
  },
  {
   "cell_type": "code",
   "execution_count": 13,
   "metadata": {
    "collapsed": true
   },
   "outputs": [],
   "source": [
    "# split Original questions and their Duplications into training and test sets.\n",
    "def split_data(questions, dupes, frac):\n",
    "    trainQ = questions\n",
    "    testQ = pd.DataFrame(columns = dupes.columns.values) # create an empty data frame\n",
    "\n",
    "    for answerId in np.unique(dupes.AnswerId):\n",
    "        df = dupes.query('AnswerId == ' + str(answerId))\n",
    "        totalCount = len(df)\n",
    "        splitPoint = int(totalCount * frac)\n",
    "        dfSort = df.sort_values(by = ['CreationDate'])\n",
    "        trainQ = trainQ.append(dfSort.head(splitPoint)) # oldest N percent of duplications\n",
    "        testQ = testQ.append(dfSort.tail(totalCount - splitPoint))\n",
    "\n",
    "    # convert data type to int\n",
    "    testQ[[\"AnswerId\", \"NumChars\"]] = testQ[[\"AnswerId\", \"NumChars\"]].astype(int) \n",
    "    # rename the index \n",
    "    testQ.index.rename(\"Id\", inplace=True)\n",
    "    \n",
    "    return trainQ, testQ"
   ]
  },
  {
   "cell_type": "code",
   "execution_count": 14,
   "metadata": {
    "collapsed": true
   },
   "outputs": [],
   "source": [
    "trainQ, testQ = split_data(questionsC, dupesC, 0.75)"
   ]
  },
  {
   "cell_type": "code",
   "execution_count": 15,
   "metadata": {},
   "outputs": [
    {
     "data": {
      "text/html": [
       "<div>\n",
       "<table border=\"1\" class=\"dataframe\">\n",
       "  <thead>\n",
       "    <tr style=\"text-align: right;\">\n",
       "      <th></th>\n",
       "      <th>AnswerId</th>\n",
       "      <th>Text0</th>\n",
       "      <th>CreationDate</th>\n",
       "      <th>Text</th>\n",
       "      <th>NumChars</th>\n",
       "    </tr>\n",
       "    <tr>\n",
       "      <th>Id</th>\n",
       "      <th></th>\n",
       "      <th></th>\n",
       "      <th></th>\n",
       "      <th></th>\n",
       "      <th></th>\n",
       "    </tr>\n",
       "  </thead>\n",
       "  <tbody>\n",
       "    <tr>\n",
       "      <th>3713</th>\n",
       "      <td>3777</td>\n",
       "      <td>Call ASP.NET Function From Javascript?. &lt;p&gt;I'm...</td>\n",
       "      <td>2008-08-06 17:16:36.630</td>\n",
       "      <td>call asp.net function from javascript?. i'm wr...</td>\n",
       "      <td>227</td>\n",
       "    </tr>\n",
       "    <tr>\n",
       "      <th>5223</th>\n",
       "      <td>6700</td>\n",
       "      <td>Length of a JavaScript object (that is, associ...</td>\n",
       "      <td>2008-08-07 19:42:21.060</td>\n",
       "      <td>length of a javascript object (that is, associ...</td>\n",
       "      <td>313</td>\n",
       "    </tr>\n",
       "    <tr>\n",
       "      <th>7477</th>\n",
       "      <td>7523</td>\n",
       "      <td>Autosizing textarea using Prototype. &lt;p&gt;I'm cu...</td>\n",
       "      <td>2008-08-11 01:43:13.493</td>\n",
       "      <td>autosizing textarea using prototype. i'm curre...</td>\n",
       "      <td>1664</td>\n",
       "    </tr>\n",
       "    <tr>\n",
       "      <th>18082</th>\n",
       "      <td>1830844</td>\n",
       "      <td>Validate decimal numbers in JavaScript - IsNum...</td>\n",
       "      <td>2008-08-20 14:21:13.793</td>\n",
       "      <td>validate decimal numbers in javascript - isnum...</td>\n",
       "      <td>231</td>\n",
       "    </tr>\n",
       "    <tr>\n",
       "      <th>21294</th>\n",
       "      <td>242607</td>\n",
       "      <td>Dynamically load a JavaScript file. &lt;p&gt;How can...</td>\n",
       "      <td>2008-08-21 21:59:31.080</td>\n",
       "      <td>dynamically load a javascript file. how can yo...</td>\n",
       "      <td>980</td>\n",
       "    </tr>\n",
       "  </tbody>\n",
       "</table>\n",
       "</div>"
      ],
      "text/plain": [
       "       AnswerId                                              Text0  \\\n",
       "Id                                                                   \n",
       "3713       3777  Call ASP.NET Function From Javascript?. <p>I'm...   \n",
       "5223       6700  Length of a JavaScript object (that is, associ...   \n",
       "7477       7523  Autosizing textarea using Prototype. <p>I'm cu...   \n",
       "18082   1830844  Validate decimal numbers in JavaScript - IsNum...   \n",
       "21294    242607  Dynamically load a JavaScript file. <p>How can...   \n",
       "\n",
       "                  CreationDate  \\\n",
       "Id                               \n",
       "3713   2008-08-06 17:16:36.630   \n",
       "5223   2008-08-07 19:42:21.060   \n",
       "7477   2008-08-11 01:43:13.493   \n",
       "18082  2008-08-20 14:21:13.793   \n",
       "21294  2008-08-21 21:59:31.080   \n",
       "\n",
       "                                                    Text  NumChars  \n",
       "Id                                                                  \n",
       "3713   call asp.net function from javascript?. i'm wr...       227  \n",
       "5223   length of a javascript object (that is, associ...       313  \n",
       "7477   autosizing textarea using prototype. i'm curre...      1664  \n",
       "18082  validate decimal numbers in javascript - isnum...       231  \n",
       "21294  dynamically load a javascript file. how can yo...       980  "
      ]
     },
     "execution_count": 15,
     "metadata": {},
     "output_type": "execute_result"
    }
   ],
   "source": [
    "trainQ.head(5)"
   ]
  },
  {
   "cell_type": "markdown",
   "metadata": {},
   "source": [
    "## Select Subsets with Sufficient Training Questions per Answer Class\n",
    "\n",
    "In our past experiments, we notice that some Q&A pairs only link to a small number of duplicate questions. This means those answer classes may contain an insufficient amount of examples to train an accurate model. We examine the effect of the number of duplicate questions available for training for each Q&A pair. \n",
    "\n",
    "<img src=\"https://raw.githubusercontent.com/Azure/MachineLearningSamples-QnAMatching/master/Image/training_size.PNG?token=APoO9rnKXamwVdXu8luA_Dd28UUBncwrks5ZwtRowA%3D%3D\">\n",
    "\n",
    "The above Figure shows results for questions relative to the number of training examples available for the correct Q&A pair that should be returned. Most of our Q&A pairs (857 out of 1201) have 5 or fewer known duplicate questions available for training. Performance on these questions is relatively weak, with the correct Q&A pair landing in the top 10 results less than 40% of the time. However, when greater numbers of duplicate questions are available for training, performance improves dramatically; when Q&A pairs have 50 or more duplicate questions available for training, the classification model places these pairs in the top 10 of the retrieved results 98% of the time when they correctly match the query. The most duplicated question contains 962 duplications. \n",
    "\n",
    "For the study in this notebook, we only consider the answer classes that have more than 13 training questions (original and duplicate questions) in this notebook. This reduces the entire dataset to 5,153 training questions, 1,735 test questions, and 103 unique answer classes."
   ]
  },
  {
   "cell_type": "code",
   "execution_count": 16,
   "metadata": {
    "collapsed": true
   },
   "outputs": [],
   "source": [
    "countPerAns = pd.DataFrame({\"NumTrain\" : trainQ.groupby(\"AnswerId\").size()})\n",
    "trainQwithCount = trainQ.merge(countPerAns, left_on=\"AnswerId\", right_index=True)\n",
    "testQwithCount = testQ.merge(countPerAns, left_on=\"AnswerId\", right_index=True)\n",
    "\n",
    "# for each Answer class, we request more than 13 training questions.\n",
    "trainQ = trainQwithCount[trainQwithCount[\"NumTrain\"] > 13]\n",
    "testQ = testQwithCount[testQwithCount[\"NumTrain\"] > 13]"
   ]
  },
  {
   "cell_type": "code",
   "execution_count": 17,
   "metadata": {
    "scrolled": false
   },
   "outputs": [
    {
     "name": "stdout",
     "output_type": "stream",
     "text": [
      "# of training examples: 5153\n",
      "# of testing examples: 1735\n",
      "\n",
      "A quick glance of the training data: \n",
      "\n"
     ]
    },
    {
     "data": {
      "text/html": [
       "<div>\n",
       "<table border=\"1\" class=\"dataframe\">\n",
       "  <thead>\n",
       "    <tr style=\"text-align: right;\">\n",
       "      <th></th>\n",
       "      <th>AnswerId</th>\n",
       "      <th>Text</th>\n",
       "    </tr>\n",
       "    <tr>\n",
       "      <th>Id</th>\n",
       "      <th></th>\n",
       "      <th></th>\n",
       "    </tr>\n",
       "  </thead>\n",
       "  <tbody>\n",
       "    <tr>\n",
       "      <th>69913</th>\n",
       "      <td>69984</td>\n",
       "      <td>why don't self-closing script tags work?. what...</td>\n",
       "    </tr>\n",
       "    <tr>\n",
       "      <th>392561</th>\n",
       "      <td>69984</td>\n",
       "      <td>firefox script tag error. while adding some ve...</td>\n",
       "    </tr>\n",
       "    <tr>\n",
       "      <th>1297308</th>\n",
       "      <td>69984</td>\n",
       "      <td>weird javascript/jquery behavior.  possible du...</td>\n",
       "    </tr>\n",
       "    <tr>\n",
       "      <th>3352182</th>\n",
       "      <td>69984</td>\n",
       "      <td>html: why script tags should always have full ...</td>\n",
       "    </tr>\n",
       "    <tr>\n",
       "      <th>5355867</th>\n",
       "      <td>69984</td>\n",
       "      <td>loading scripts in javascript.  possible dupli...</td>\n",
       "    </tr>\n",
       "  </tbody>\n",
       "</table>\n",
       "</div>"
      ],
      "text/plain": [
       "         AnswerId                                               Text\n",
       "Id                                                                  \n",
       "69913       69984  why don't self-closing script tags work?. what...\n",
       "392561      69984  firefox script tag error. while adding some ve...\n",
       "1297308     69984  weird javascript/jquery behavior.  possible du...\n",
       "3352182     69984  html: why script tags should always have full ...\n",
       "5355867     69984  loading scripts in javascript.  possible dupli..."
      ]
     },
     "execution_count": 17,
     "metadata": {},
     "output_type": "execute_result"
    }
   ],
   "source": [
    "print(\"# of training examples: \" + str(len(trainQ)))\n",
    "print(\"# of testing examples: \" + str(len(testQ)) + \"\\n\")\n",
    "print(\"A quick glance of the training data: \\n\")\n",
    "trainQ[[\"AnswerId\", \"Text\"]].head(5)"
   ]
  },
  {
   "cell_type": "markdown",
   "metadata": {},
   "source": [
    "## Save Outputs to a Share Directory in the Workbench\n",
    "\n",
    "Azure Machine Learning Workbench provides a flexible way of saving intermediate files. `os.environ.get('AZUREML_NATIVE_SHARE_DIRECTORY')` retrieves a share directory where the files are stored. Those files can be accessed from other notebooks or Python files."
   ]
  },
  {
   "cell_type": "code",
   "execution_count": 18,
   "metadata": {
    "collapsed": true
   },
   "outputs": [],
   "source": [
    "workfolder = os.environ.get('AZUREML_NATIVE_SHARE_DIRECTORY')\n",
    "trainQ.to_csv(os.path.join(workfolder, 'trainQ_part1'), sep='\\t', header=True, index=True, index_label='Id')\n",
    "testQ.to_csv(os.path.join(workfolder, 'testQ_part1'), sep='\\t', header=True, index=True, index_label='Id')"
   ]
  }
 ],
 "metadata": {
  "kernelspec": {
   "display_name": "qna-matching local",
   "language": "python",
   "name": "qna-matching_local"
  },
  "language_info": {
   "codemirror_mode": {
    "name": "ipython",
    "version": 3
   },
   "file_extension": ".py",
   "mimetype": "text/x-python",
   "name": "python",
   "nbconvert_exporter": "python",
   "pygments_lexer": "ipython3",
   "version": "3.5.2"
  }
 },
 "nbformat": 4,
 "nbformat_minor": 2
}
